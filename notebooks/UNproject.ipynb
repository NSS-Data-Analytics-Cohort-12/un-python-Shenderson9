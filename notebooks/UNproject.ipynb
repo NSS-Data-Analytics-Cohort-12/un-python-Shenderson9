{
 "cells": [
  {
   "cell_type": "markdown",
   "id": "bc248157-af03-4184-854e-abd3d215cfb7",
   "metadata": {},
   "source": [
    "## A Guided Exploration of UN Data (Gross Domestic Product and Internet Usage)\r\n"
   ]
  },
  {
   "cell_type": "markdown",
   "id": "ae268a16-4149-4b28-8730-38c8b13f76c5",
   "metadata": {},
   "source": [
    "1. Importing Data\n",
    "\n",
    "    a. Create a `data` folder in your local project repository.  \n",
    "    b. Download these two CSV files and place them in the data folder:\n",
    "\n",
    "            i.\tGross Domestic Product (GDP) per capita http://data.un.org/Data.aspx?d=WDI&f=Indicator_Code%3aNY.GDP.PCAP.PP.KD\n",
    "               **DO NOT APPLY ANY FILTERS**\n",
    "             - rename the file to `gdp_percapita.csv`\n",
    "             - open it with a text editor (**not excel**) and take a look\n",
    "\n",
    "            ii.\tPercentage of Individuals using the Internet http://data.un.org/Data.aspx?d=ITU&f=ind1Code%3aI99H\n",
    "               **DO NOT APPLY ANY FILTERS**\n",
    "             - rename the file to `internet_use.csv`\n",
    "             - open it with a text editor (**not excel**) and take a look"
   ]
  },
  {
   "cell_type": "markdown",
   "id": "8fb4106b-d018-43c1-99e5-0fb46ecd76a3",
   "metadata": {},
   "source": [
    "2.\tCreate a `notebooks` folder and launch a Jupyter Notebook in this folder. Give it a meaningful name.  \r",
    "    \n",
    " - **IMPORTANT:**  You are likely to get errors along the way. When you do, read the errors to try to understand what is happening and how to correct it.    \r\n",
    "  - Use markdown cells to record your answers to any questions asked in this exercise. On the menu bar, you can toggle the cell type from `Code` to `Markdown`."
   ]
  },
  {
   "cell_type": "markdown",
   "id": "9ba3192f-e970-4321-bd85-8becbdc94af4",
   "metadata": {},
   "source": [
    "3.\tImport the required packages with their customary aliases as follows:\r\n",
    "\r\n",
    "    `import pandas as pd`   \r\n",
    "    `import numpy as np`  \r\n",
    "    `import matplotlib.pyplot as plt`  \r\n",
    "    `import seaborn as sns`\r\n"
   ]
  },
  {
   "cell_type": "code",
   "execution_count": 2,
   "id": "d6cdb89f-278c-4cee-bba6-db2e2a2519c5",
   "metadata": {},
   "outputs": [],
   "source": [
    "import pandas as pd\n",
    "import numpy as np\n",
    "import matplotlib.pyplot as plt\n",
    "import seaborn as sns"
   ]
  },
  {
   "cell_type": "markdown",
   "id": "a733e7ae-10b7-4f76-bd0d-18581f54c6ef",
   "metadata": {},
   "source": [
    "4.\tUsing the pandas `read_csv()` method, read the GDP dataset into your notebook as a DataFrame called `gdp_df`. Take a look at the first few and last few rows to familiarize yourself with what is contained in this dataset.\r\n"
   ]
  },
  {
   "cell_type": "code",
   "execution_count": 4,
   "id": "e81259e6-176e-4598-9816-926ffb680cf8",
   "metadata": {},
   "outputs": [],
   "source": [
    "gdp_df = pd.read_csv('../data/gdp_percapita.csv')"
   ]
  },
  {
   "cell_type": "markdown",
   "id": "f98c8adf-0c15-4131-9352-182594e78428",
   "metadata": {},
   "source": [
    "5. How many rows and columns are in `gdp_df`? What are the data types of each column?\r\n"
   ]
  },
  {
   "cell_type": "code",
   "execution_count": 6,
   "id": "42419dde-5afd-4b12-b115-cdfceb78bafa",
   "metadata": {},
   "outputs": [
    {
     "name": "stdout",
     "output_type": "stream",
     "text": [
      "     Country or Area  Year        Value  Value Footnotes\n",
      "0        Afghanistan  2021  1517.016266              NaN\n",
      "1        Afghanistan  2020  1968.341002              NaN\n",
      "2        Afghanistan  2019  2079.921861              NaN\n",
      "3        Afghanistan  2018  2060.698973              NaN\n",
      "4        Afghanistan  2017  2096.093111              NaN\n",
      "...              ...   ...          ...              ...\n",
      "7657        Zimbabwe  1994  2670.106615              NaN\n",
      "7658        Zimbabwe  1993  2458.783255              NaN\n",
      "7659        Zimbabwe  1992  2468.278257              NaN\n",
      "7660        Zimbabwe  1991  2781.787843              NaN\n",
      "7661        Zimbabwe  1990  2704.757299              NaN\n",
      "\n",
      "[7662 rows x 4 columns]\n"
     ]
    }
   ],
   "source": [
    "print(gdp_df)"
   ]
  },
  {
   "cell_type": "code",
   "execution_count": 7,
   "id": "67512b7c-cf43-4e64-bc00-6c6a44ab8c96",
   "metadata": {},
   "outputs": [
    {
     "data": {
      "text/plain": [
       "Country or Area     object\n",
       "Year                 int64\n",
       "Value              float64\n",
       "Value Footnotes    float64\n",
       "dtype: object"
      ]
     },
     "execution_count": 7,
     "metadata": {},
     "output_type": "execute_result"
    }
   ],
   "source": [
    "gdp_df.dtypes"
   ]
  },
  {
   "cell_type": "markdown",
   "id": "b8463d33-4e68-4cd8-b97a-b9097f06d703",
   "metadata": {},
   "source": [
    "6. Drop the `Value Footnotes` column and rename the remaining three to 'Country', 'Year', and 'GDP_Per_Capita'."
   ]
  },
  {
   "cell_type": "code",
   "execution_count": 9,
   "id": "67cab796-9c38-470e-96cd-153a15b9686d",
   "metadata": {},
   "outputs": [],
   "source": [
    "gdp_df = gdp_df.drop(\"Value Footnotes\", axis=1)"
   ]
  },
  {
   "cell_type": "code",
   "execution_count": 10,
   "id": "7e9c7544-8df2-4e59-bff2-5632691c3a36",
   "metadata": {},
   "outputs": [],
   "source": [
    "gdp_df = gdp_df.rename(columns={'Country or Area': 'Country', 'Value': 'GDP_Per_Capita'})"
   ]
  },
  {
   "cell_type": "code",
   "execution_count": 11,
   "id": "368ea0b1-fd17-4183-ae1b-6c8739e5b2d9",
   "metadata": {},
   "outputs": [
    {
     "name": "stdout",
     "output_type": "stream",
     "text": [
      "          Country  Year  GDP_Per_Capita\n",
      "0     Afghanistan  2021     1517.016266\n",
      "1     Afghanistan  2020     1968.341002\n",
      "2     Afghanistan  2019     2079.921861\n",
      "3     Afghanistan  2018     2060.698973\n",
      "4     Afghanistan  2017     2096.093111\n",
      "...           ...   ...             ...\n",
      "7657     Zimbabwe  1994     2670.106615\n",
      "7658     Zimbabwe  1993     2458.783255\n",
      "7659     Zimbabwe  1992     2468.278257\n",
      "7660     Zimbabwe  1991     2781.787843\n",
      "7661     Zimbabwe  1990     2704.757299\n",
      "\n",
      "[7662 rows x 3 columns]\n"
     ]
    }
   ],
   "source": [
    "print(gdp_df)"
   ]
  },
  {
   "cell_type": "markdown",
   "id": "d5507a3d-1ed0-4ec9-b807-95ebb5548982",
   "metadata": {},
   "source": [
    "7. How many countries have data for all years? Which countries are missing many years of data? Look at the number of observations per year. What do you notice? \n"
   ]
  },
  {
   "cell_type": "code",
   "execution_count": 106,
   "id": "e410018c-8189-4bb1-9902-e8a9d5bc6192",
   "metadata": {},
   "outputs": [
    {
     "name": "stdout",
     "output_type": "stream",
     "text": [
      "202\n"
     ]
    }
   ],
   "source": [
    "country_year_counts = gdp_df.groupby('Country')['Year'].nunique()\n",
    "\n",
    "total_years = gdp_df['Year'].nunique()\n",
    "\n",
    "countries_with_all_years = country_year_counts[country_year_counts == total_years]\n",
    "\n",
    "print(countries_with_all_years.count())"
   ]
  },
  {
   "cell_type": "code",
   "execution_count": 118,
   "id": "98439093-f9d6-403e-8f87-ddd8ccd8f9db",
   "metadata": {
    "scrolled": true
   },
   "outputs": [
    {
     "name": "stdout",
     "output_type": "stream",
     "text": [
      "Country\n",
      "Afghanistan                  20\n",
      "Bosnia and Herzegovina       29\n",
      "Cambodia                     30\n",
      "Cayman Islands               16\n",
      "Croatia                      28\n",
      "CuraÃ§ao                     22\n",
      "Djibouti                     10\n",
      "Estonia                      28\n",
      "Iceland                      28\n",
      "Israel                       28\n",
      "Kosovo                       15\n",
      "Latvia                       28\n",
      "Liberia                      23\n",
      "Libya                        24\n",
      "Lithuania                    28\n",
      "Maldives                     28\n",
      "Moldova                      28\n",
      "Montenegro                   26\n",
      "Nauru                        19\n",
      "Other small states           23\n",
      "Palau                        22\n",
      "Qatar                        23\n",
      "San Marino                   25\n",
      "Serbia                       28\n",
      "Sint Maarten (Dutch part)    14\n",
      "Slovenia                     28\n",
      "Small states                 26\n",
      "Somalia                      10\n",
      "SÃ£o TomÃ© and Principe      22\n",
      "Timor-Leste                  23\n",
      "Turks and Caicos Islands     12\n",
      "West Bank and Gaza           29\n",
      "Name: Year, dtype: int64\n"
     ]
    }
   ],
   "source": [
    "countries_without_all_years = country_year_counts[country_year_counts <= (total_years - 3)]\n",
    "print(countries_without_all_years)\n",
    "#Returns a list of all countries that do not have data for at least 3 of the years."
   ]
  },
  {
   "cell_type": "code",
   "execution_count": 15,
   "id": "ea9655de-2107-4536-a3be-8a513ba3b126",
   "metadata": {},
   "outputs": [
    {
     "name": "stdout",
     "output_type": "stream",
     "text": [
      "Year\n",
      "1990    207\n",
      "1991    208\n",
      "1992    210\n",
      "1993    211\n",
      "1994    213\n",
      "1995    223\n",
      "1996    223\n",
      "1997    226\n",
      "1998    226\n",
      "1999    227\n",
      "2000    233\n",
      "2001    234\n",
      "2002    235\n",
      "2003    235\n",
      "2004    236\n",
      "2005    236\n",
      "2006    237\n",
      "2007    237\n",
      "2008    238\n",
      "2009    239\n",
      "2010    239\n",
      "2011    240\n",
      "2012    240\n",
      "2013    242\n",
      "2014    242\n",
      "2015    242\n",
      "2016    242\n",
      "2017    242\n",
      "2018    242\n",
      "2019    242\n",
      "2020    242\n",
      "2021    241\n",
      "2022    232\n",
      "Name: count, dtype: int64\n"
     ]
    }
   ],
   "source": [
    "total_years_count = gdp_df['Year'].value_counts().sort_index()\n",
    "print(total_years_count)\n",
    "#returns a count of observations for every year"
   ]
  },
  {
   "cell_type": "markdown",
   "id": "16c0f8a8-940e-415c-a1dc-b8dca4e412e6",
   "metadata": {},
   "source": [
    "Answer: After looking at the observations per year, I have noticed that observations have consistently increased throughout the years with a slight dip in 2021 and a noticable dip in 2022. "
   ]
  },
  {
   "cell_type": "markdown",
   "id": "6560f615-93dd-4011-9214-a9b9cfb85be0",
   "metadata": {},
   "source": [
    "8. In this question, you're going to create some plots to show the distribution of GDP per capita for the year 2020. Go to the Python Graph Gallery (https://www.python-graph-gallery.com/) and look at the different types of plots under the Distribution section. Create a histogram, a density plot, a boxplot, and a violin plot. What do you notice when you look at these plots? How do the plots compare and what information can you get out of one type that you can't necessarily get out of the others?"
   ]
  },
  {
   "cell_type": "code",
   "execution_count": 123,
   "id": "7bd8ecf3-99bb-4c60-8fa0-6acff93b67d7",
   "metadata": {},
   "outputs": [
    {
     "data": {
      "text/plain": [
       "<seaborn.axisgrid.FacetGrid at 0x26f87c7a900>"
      ]
     },
     "execution_count": 123,
     "metadata": {},
     "output_type": "execute_result"
    },
    {
     "data": {
      "image/png": "[encoded data removed]",
      "text/plain": [
       "<Figure size 500x500 with 1 Axes>"
      ]
     },
     "metadata": {},
     "output_type": "display_data"
    }
   ],
   "source": [
    "gdp_2020 = gdp_df[gdp_df['Year'] == 2020]\n",
    "sns.displot( data=gdp_2020[\"GDP_Per_Capita\"], kde=True )"
   ]
  },
  {
   "cell_type": "code",
   "execution_count": 86,
   "id": "37188987-60d8-4902-a22b-f7e636b9efbf",
   "metadata": {},
   "outputs": [
    {
     "data": {
      "text/plain": [
       "<Axes: xlabel='GDP_Per_Capita', ylabel='Density'>"
      ]
     },
     "execution_count": 86,
     "metadata": {},
     "output_type": "execute_result"
    },
    {
     "data": {
      "image/png": "[encoded data removed]",
      "text/plain": [
       "<Figure size 640x480 with 1 Axes>"
      ]
     },
     "metadata": {},
     "output_type": "display_data"
    }
   ],
   "source": [
    "sns.kdeplot(gdp_2020['GDP_Per_Capita'])"
   ]
  },
  {
   "cell_type": "code",
   "execution_count": null,
   "id": "eb0aef53-9035-4b4e-8c89-0810bf3e2c9e",
   "metadata": {},
   "outputs": [],
   "source": [
    "sns.boxplot( x=df[\"species\"], y=gdp_2020[\"GDP_Per_Capita\"] )"
   ]
  },
  {
   "cell_type": "markdown",
   "id": "95373939-b1e3-47f7-b0a1-5b3ce60ad50b",
   "metadata": {},
   "source": [
    "9. What was the median GDP per capita value in 2020?\r\n"
   ]
  },
  {
   "cell_type": "markdown",
   "id": "754a60e5-66bc-4915-8d14-d82056c8b7fd",
   "metadata": {},
   "source": [
    "10. For this question, you're going to create some visualizations to compare GDP per capita values for the years 1990, 2000, 2010, and 2020. Start by subsetting your data to just these 4 years into a new DataFrame named gdp_decades. Using this, create the following 4 plots:\r\n",
    "\t* A boxplot\r\n",
    "\t* A barplot (check out the Barplot with Seaborn section: https://www.python-graph-gallery.com/barplot/#Seaborn)\r\n",
    "\t* A scatterplot\r\n",
    "\t* A scatterplot with a trend line overlaid (see this regplot example: https://www.python-graph-gallery.com/42-custom-linear-regression-fit-seaborn)  \r\n",
    "Comment on what you observe has happened to GDP values over time and the relative strengths and weaknesses of each type of plot.\r\n"
   ]
  },
  {
   "cell_type": "markdown",
   "id": "086e250b-96df-46fd-b9bc-6b31878e6ee2",
   "metadata": {},
   "source": [
    "11. Which country was the first to have a GDP per capita greater than $100,000?\r\n"
   ]
  },
  {
   "cell_type": "markdown",
   "id": "5160c77e-a01d-485f-828f-bebd86a3bda7",
   "metadata": {},
   "source": [
    "12. Which country had the highest GDP per capita in 2020? Create a plot showing how this country's GDP per capita has changed over the timespan of the dataset.\r\n"
   ]
  },
  {
   "cell_type": "markdown",
   "id": "bb546ffd-d7b8-4ee2-b4e8-bce7a9fb7e8e",
   "metadata": {},
   "source": [
    "13. Which country had the lowest GDP per capita in 2020? Create a plot showing how this country's GDP per capita has changed over the timespan of the dataset. **Bonus question:** Is it true in general that coutries had a higher GDP per capita in 2020 than in 1990? Which countries had lower GDP per capita in 2020 than in 1990?\r\n"
   ]
  },
  {
   "cell_type": "markdown",
   "id": "222c5ced-7529-42c1-8846-b8444987e295",
   "metadata": {},
   "source": [
    "14. Read in the internet use dataset into a DataFrame named `internet_df`. You will likely get errors when doing this. Check the arguments for the read_csv function to find ones that can help correct the errors (https://pandas.pydata.org/docs/reference/api/pandas.read_csv.html) Once you are able to read it in, take per a look at the top and bottom few rows to make sure that it has been read in correctly. Also, check the datatypes of the columns.\n"
   ]
  },
  {
   "cell_type": "code",
   "execution_count": null,
   "id": "67335af6-ab86-4982-adb2-67b864bc2de1",
   "metadata": {},
   "outputs": [],
   "source": []
  }
 ],
 "metadata": {
  "kernelspec": {
   "display_name": "Python 3 (ipykernel)",
   "language": "python",
   "name": "python3"
  },
  "language_info": {
   "codemirror_mode": {
    "name": "ipython",
    "version": 3
   },
   "file_extension": ".py",
   "mimetype": "text/x-python",
   "name": "python",
   "nbconvert_exporter": "python",
   "pygments_lexer": "ipython3",
   "version": "3.12.4"
  }
 },
 "nbformat": 4,
 "nbformat_minor": 5
}
